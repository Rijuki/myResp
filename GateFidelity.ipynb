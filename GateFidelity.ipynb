{
 "cells": [
  {
   "cell_type": "markdown",
   "metadata": {},
   "source": [
    "# Gate Fidelity, Basics and Definitions\n",
    " by: Richard Kienhoefer"
   ]
  },
  {
   "cell_type": "markdown",
   "metadata": {},
   "source": [
    "### Definition\n",
    "For quantum computing, fidelity is how close two quantum states are to each other. In other words, fidelity asks how close is state two from state one. This is also very closely related to noise and attempting to reduce noise. Typically you compare the difference between an ideal output with experimental output results.\n",
    "\n",
    "The original statistical definition of fidelity was given by:\n",
    "> $F(X,Y)=( \\sum_{i} \\sqrt{p_i q_i} )^2$\n",
    "\n",
    "Where p and q are probabilities. <br>\n",
    "But because we are dealing with quantum states these probabilities are going to be matricies. We call these matricies $\\rho$ and $\\sigma$. <br>\n",
    "Our quantum fidelity now becomes (derivation is left to the reader):\n",
    "> $F(\\rho,\\sigma)=( tr \\sqrt{ \\sqrt{\\rho} \\sigma \\sqrt{\\rho}} )^2$"
   ]
  },
  {
   "cell_type": "markdown",
   "metadata": {},
   "source": [
    "### Trace \n",
    "The tr() from above stands for trace. Trace is the sum of all the diagonal elements of a matrix.\n",
    "\n",
    "> $ tr(A) = \\sum_{i=1}^{n}a_{ii} = a_{11} + a_{22} + [...] + a_{nn}$"
   ]
  },
  {
   "cell_type": "markdown",
   "metadata": {},
   "source": [
    "### Properties\n",
    "There exist a few properties the come from quantum state fidelity:\n",
    "* Symmetry: $F(\\sigma, \\rho)=F(\\rho, \\sigma)$\n",
    "* Bounded values: $0 \\leq F(\\sigma, \\rho) \\leq 1$ and $F(\\rho, \\rho)=1$\n",
    "* Consistency with fidelity between probability distributions: <br>\n",
    "If $\\rho$ and $\\sigma$ commute, the definition becomes:\n",
    "> $F(\\sigma, \\rho)=[tr \\sqrt{\\sigma \\rho}]^2=(\\sum_k\\sqrt{p_kq_k})^2=F(p, q)$\n",
    "* Simplified expression for pure states: \n",
    "If $\\rho$ is pure ( when $\\rho = |\\psi_\\rho><\\psi_\\rho|$), then:\n",
    ">$F(\\rho, \\sigma)=<\\psi_\\rho|\\sigma|\\psi_\\rho>$\n",
    "* Explicit expression for qubits: When both our $\\sigma$ and $\\rho$ are both qubits, the fidelity calculation changes.\n",
    "> $F(\\rho, \\sigma)=tr(\\rho\\sigma)+2\\sqrt{det(\\rho)det(\\sigma)}$\n",
    "\n",
    "These properties create the mathematical foundation to quantum computing fidelity."
   ]
  },
  {
   "cell_type": "markdown",
   "metadata": {},
   "source": [
    "### Noise models"
   ]
  },
  {
   "cell_type": "markdown",
   "metadata": {},
   "source": [
    "To explore fidelity further, we will look at the outputs of circuits. <br>\n",
    "By creating a noise model, we can probe the fidelity of various models.<br>\n",
    "On a real quantum computer this process would be different as the model would be based on which computer we\n",
    "would be running the code on."
   ]
  },
  {
   "cell_type": "code",
   "execution_count": null,
   "metadata": {},
   "outputs": [],
   "source": [
    "import qiskit\n",
    "from qiskit import IBMQ\n",
    "from qiskit.providers.aer.noise import NoiseModel\n",
    "from qiskit.providers.aer.noise.errors import pauli_error, depolarizing_error\n",
    "from qiskit.providers.aer.noise import thermal_relaxation_error\n",
    "provider = IBMQ.load_account()"
   ]
  },
  {
   "cell_type": "code",
   "execution_count": 18,
   "metadata": {},
   "outputs": [
    {
     "data": {
      "image/png": "[encoded data removed]",
      "text/plain": [
       "<Figure size 539.392x264.88 with 1 Axes>"
      ]
     },
     "execution_count": 18,
     "metadata": {},
     "output_type": "execute_result"
    }
   ],
   "source": [
    "qc = qiskit.QuantumCircuit(3)\n",
    "qc.y(0)\n",
    "qc.z(2)\n",
    "qc.cx(0, 1)\n",
    "qc.measure_all()\n",
    "qc.draw(output='mpl')"
   ]
  },
  {
   "cell_type": "markdown",
   "metadata": {},
   "source": [
    "Without a noise model, the qasm simulator returns a fidelity of 100 % (8192/8192)"
   ]
  },
  {
   "cell_type": "code",
   "execution_count": 19,
   "metadata": {},
   "outputs": [
    {
     "data": {
      "text/plain": [
       "{'011': 8192}"
      ]
     },
     "execution_count": 19,
     "metadata": {},
     "output_type": "execute_result"
    }
   ],
   "source": [
    "qiskit.execute( qc, qiskit.Aer.get_backend('qasm_simulator'), shots=8192).result().get_counts()"
   ]
  },
  {
   "cell_type": "markdown",
   "metadata": {},
   "source": [
    "Using IBM's Athens system, we extract the noise model and get fidelity of ~ 90% (~7400/8192)"
   ]
  },
  {
   "cell_type": "code",
   "execution_count": 21,
   "metadata": {},
   "outputs": [
    {
     "data": {
      "text/plain": [
       "{'011': 7338,\n",
       " '000': 14,\n",
       " '101': 11,\n",
       " '110': 11,\n",
       " '001': 213,\n",
       " '111': 361,\n",
       " '010': 242,\n",
       " '100': 2}"
      ]
     },
     "execution_count": 21,
     "metadata": {},
     "output_type": "execute_result"
    }
   ],
   "source": [
    "backend = provider.get_backend('ibmq_athens')\n",
    "noise_model = NoiseModel.from_backend(backend)\n",
    "qiskit.execute( qc, qiskit.Aer.get_backend('qasm_simulator'), noise_model=noise_model, shots=8192).result().get_counts()"
   ]
  },
  {
   "cell_type": "markdown",
   "metadata": {},
   "source": [
    "### Different Architecture"
   ]
  },
  {
   "cell_type": "markdown",
   "metadata": {},
   "source": [
    "Each quantum computer has a certain degree of fidelity to them. The fidelity can depend on a variety of factors, but the image below is only comparing the differences in the kind of qubit architecture and interconnections of those qubits.<br>\n",
    "On the left is a trapped ion quantum computer, from the University of Maryland, with deep interconnections between the qubits. And on the right is one of IBM's superconducting quantum computers with minimal connections.<br>\n",
    "The two bar graphs show the fidelity that can be acheived for each system, given the same circuit for each. The first thing that should pop out is that the trapped ion qubits have a much better fidelity than the superconducting qubits. This is partly due to ion trapped qubits having intrinsically better fidelity than superconducting qubits, the logical success rate is roughly 5% better {Popkin, 2016}. <br>"
   ]
  },
  {
   "cell_type": "markdown",
   "metadata": {},
   "source": [
    "![fidelity by type](unknown.png)"
   ]
  },
  {
   "cell_type": "markdown",
   "metadata": {},
   "source": [
    "### Citations\n",
    "“Fidelity of Quantum States.” Wikipedia, Wikimedia Foundation, 12 Dec. 2020, en.wikipedia.org/wiki/Fidelity_of_quantum_states. \n",
    "\n",
    "Popkin, Gabriel. “Scientists Are Close to Building a Quantum Computer That Can Beat a Conventional One.” Science, AAAS, 26 July 2017, www.sciencemag.org/news/2016/12/scientists-are-close-building-quantum-computer-can-beat-conventional-one. "
   ]
  }
 ],
 "metadata": {
  "kernelspec": {
   "display_name": "Python 3 (ipykernel)",
   "language": "python",
   "name": "python3"
  },
  "language_info": {
   "codemirror_mode": {
    "name": "ipython",
    "version": 3
   },
   "file_extension": ".py",
   "mimetype": "text/x-python",
   "name": "python",
   "nbconvert_exporter": "python",
   "pygments_lexer": "ipython3",
   "version": "3.10.7"
  }
 },
 "nbformat": 4,
 "nbformat_minor": 4
}
